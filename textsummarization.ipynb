{
 "cells": [
  {
   "cell_type": "code",
   "execution_count": 1,
   "metadata": {},
   "outputs": [
    {
     "name": "stderr",
     "output_type": "stream",
     "text": [
      "2024-05-27 02:15:02.936973: I tensorflow/core/platform/cpu_feature_guard.cc:210] This TensorFlow binary is optimized to use available CPU instructions in performance-critical operations.\n",
      "To enable the following instructions: AVX2 FMA, in other operations, rebuild TensorFlow with the appropriate compiler flags.\n",
      "2024-05-27 02:15:04.075415: W tensorflow/compiler/tf2tensorrt/utils/py_utils.cc:38] TF-TRT Warning: Could not find TensorRT\n"
     ]
    }
   ],
   "source": [
    "import warnings\n",
    "warnings.filterwarnings('ignore')\n",
    "\n",
    "import pandas as pd\n",
    "import numpy as np\n",
    "import matplotlib.pyplot as plt\n",
    "import plotly.express as px\n",
    "import plotly.graph_objects as go\n",
    "from plotly.subplots import make_subplots\n",
    "from tqdm.auto import tqdm\n",
    "\n",
    "import re\n",
    "from nltk.corpus import stopwords\n",
    "from collections import Counter\n",
    "from string import punctuation\n",
    "from wordcloud import WordCloud\n",
    "\n",
    "from tensorflow.keras.preprocessing.text import Tokenizer\n",
    "from tensorflow.keras.preprocessing.sequence import pad_sequences\n",
    "\n",
    "import torch\n",
    "import torch.nn as nn\n",
    "from torch.optim import Adam\n",
    "from torch.utils.data import DataLoader, TensorDataset\n",
    "from torchinfo import summary"
   ]
  },
  {
   "cell_type": "code",
   "execution_count": 2,
   "metadata": {},
   "outputs": [
    {
     "name": "stdout",
     "output_type": "stream",
     "text": [
      "Using cuda device\n"
     ]
    }
   ],
   "source": [
    "DEVICE = \"cuda\" if torch.cuda.is_available() else \"mps\" if torch.backends.mps.is_available() else \"cpu\"\n",
    "print(f\"Using {DEVICE} device\")"
   ]
  },
  {
   "cell_type": "code",
   "execution_count": 3,
   "metadata": {},
   "outputs": [],
   "source": [
    "file_path = '/home/ciprian/Pythonvscode/Pythonprograms/samsum-test.csv'\n",
    "df = pd.read_csv(file_path)\n",
    "\n",
    "# Ensure the CSV contains the expected columns\n",
    "assert 'dialogue' in df.columns and 'summary' in df.columns, \"The CSV file must contain 'dialogue' and 'summary' columns\"\n",
    "df = df.drop(columns=['id'])"
   ]
  },
  {
   "cell_type": "code",
   "execution_count": 4,
   "metadata": {},
   "outputs": [],
   "source": [
    "# Rename columns to match the expected format in the rest of the script\n",
    "df = df.rename(columns={'dialogue': 'src', 'summary': 'trg'})"
   ]
  },
  {
   "cell_type": "code",
   "execution_count": 5,
   "metadata": {},
   "outputs": [],
   "source": [
    "df['src_len'] = [len(text.split()) for text in df.src]\n",
    "df['trg_len'] = [len(text.split()) for text in df.trg]"
   ]
  },
  {
   "cell_type": "code",
   "execution_count": 6,
   "metadata": {},
   "outputs": [
    {
     "data": {
      "text/html": [
       "<div>\n",
       "<style scoped>\n",
       "    .dataframe tbody tr th:only-of-type {\n",
       "        vertical-align: middle;\n",
       "    }\n",
       "\n",
       "    .dataframe tbody tr th {\n",
       "        vertical-align: top;\n",
       "    }\n",
       "\n",
       "    .dataframe thead th {\n",
       "        text-align: right;\n",
       "    }\n",
       "</style>\n",
       "<table border=\"1\" class=\"dataframe\">\n",
       "  <thead>\n",
       "    <tr style=\"text-align: right;\">\n",
       "      <th></th>\n",
       "      <th>src</th>\n",
       "      <th>trg</th>\n",
       "      <th>src_len</th>\n",
       "      <th>trg_len</th>\n",
       "    </tr>\n",
       "  </thead>\n",
       "  <tbody>\n",
       "    <tr>\n",
       "      <th>0</th>\n",
       "      <td>Hannah: Hey, do you have Betty's number?\\nAman...</td>\n",
       "      <td>Hannah needs Betty's number but Amanda doesn't...</td>\n",
       "      <td>71</td>\n",
       "      <td>14</td>\n",
       "    </tr>\n",
       "    <tr>\n",
       "      <th>1</th>\n",
       "      <td>Eric: MACHINE!\\r\\nRob: That's so gr8!\\r\\nEric:...</td>\n",
       "      <td>Eric and Rob are going to watch a stand-up on ...</td>\n",
       "      <td>82</td>\n",
       "      <td>11</td>\n",
       "    </tr>\n",
       "    <tr>\n",
       "      <th>2</th>\n",
       "      <td>Lenny: Babe, can you help me with something?\\r...</td>\n",
       "      <td>Lenny can't decide which trousers to buy. Bob ...</td>\n",
       "      <td>106</td>\n",
       "      <td>27</td>\n",
       "    </tr>\n",
       "    <tr>\n",
       "      <th>3</th>\n",
       "      <td>Will: hey babe, what do you want for dinner to...</td>\n",
       "      <td>Emma will be home soon and she will let Will k...</td>\n",
       "      <td>85</td>\n",
       "      <td>11</td>\n",
       "    </tr>\n",
       "    <tr>\n",
       "      <th>4</th>\n",
       "      <td>Ollie: Hi , are you in Warsaw\\r\\nJane: yes, ju...</td>\n",
       "      <td>Jane is in Warsaw. Ollie and Jane has a party....</td>\n",
       "      <td>207</td>\n",
       "      <td>42</td>\n",
       "    </tr>\n",
       "  </tbody>\n",
       "</table>\n",
       "</div>"
      ],
      "text/plain": [
       "                                                 src  \\\n",
       "0  Hannah: Hey, do you have Betty's number?\\nAman...   \n",
       "1  Eric: MACHINE!\\r\\nRob: That's so gr8!\\r\\nEric:...   \n",
       "2  Lenny: Babe, can you help me with something?\\r...   \n",
       "3  Will: hey babe, what do you want for dinner to...   \n",
       "4  Ollie: Hi , are you in Warsaw\\r\\nJane: yes, ju...   \n",
       "\n",
       "                                                 trg  src_len  trg_len  \n",
       "0  Hannah needs Betty's number but Amanda doesn't...       71       14  \n",
       "1  Eric and Rob are going to watch a stand-up on ...       82       11  \n",
       "2  Lenny can't decide which trousers to buy. Bob ...      106       27  \n",
       "3  Emma will be home soon and she will let Will k...       85       11  \n",
       "4  Jane is in Warsaw. Ollie and Jane has a party....      207       42  "
      ]
     },
     "execution_count": 6,
     "metadata": {},
     "output_type": "execute_result"
    }
   ],
   "source": [
    "df.head()"
   ]
  },
  {
   "cell_type": "code",
   "execution_count": 7,
   "metadata": {},
   "outputs": [],
   "source": [
    "def src_preprocessing(data, col):\n",
    "    data[col] = data[col].astype(str)\n",
    "    data[col] = data[col].apply(lambda x: x.lower())\n",
    "    data[col] = data[col].apply(lambda x: re.sub(\"[^A-Za-z\\s]\", \"\", x))\n",
    "    data[col] = data[col].apply(lambda x: re.sub(\"\\s+\", \" \", x))\n",
    "    data[col] = data[col].apply(lambda x: \" \".join([word for word in x.split()]))\n",
    "    return data"
   ]
  },
  {
   "cell_type": "code",
   "execution_count": 8,
   "metadata": {},
   "outputs": [],
   "source": [
    "def trg_preprocessing(data, col):\n",
    "    data[col] = data[col].astype(str)\n",
    "    data[col] = data[col].apply(lambda x: x.lower())\n",
    "    data[col] = data[col].apply(lambda x: re.sub(r'\\d', '', x))\n",
    "    data[col] = data[col].apply(lambda x: re.sub(r'\\s+', ' ', x))\n",
    "    data[col] = data[col].apply(lambda x: re.sub(r\"[-()\\\"#/@;:<>{}`+=~|.!?,।]\", \"\", x))\n",
    "    data[col] = data[col].apply(lambda x: x.strip())\n",
    "    data[col] = \"<sos> \" + data[col] + \" <eos>\"\n",
    "    return data"
   ]
  },
  {
   "cell_type": "code",
   "execution_count": 9,
   "metadata": {},
   "outputs": [],
   "source": [
    "df = src_preprocessing(df, 'src')\n",
    "df = trg_preprocessing(df, 'trg')"
   ]
  },
  {
   "cell_type": "code",
   "execution_count": 10,
   "metadata": {},
   "outputs": [],
   "source": [
    "# Filtering based on summarization length criteria\n",
    "df = df[~(df['src_len'] < 50) & ~(df['src_len'] > 300)]\n",
    "df = df[~(df['trg_len'] < 10) & ~(df['trg_len'] > 50)]"
   ]
  },
  {
   "cell_type": "code",
   "execution_count": 11,
   "metadata": {},
   "outputs": [],
   "source": [
    "SRC_MAXLEN = np.max(df['src_len'])\n",
    "TRG_MAXLEN = np.max(df['trg_len'])"
   ]
  },
  {
   "cell_type": "code",
   "execution_count": 12,
   "metadata": {},
   "outputs": [],
   "source": [
    "def Vectorization(col, MAXLEN):\n",
    "    sents = df[col].tolist()\n",
    "    corpus = [word for text in df[col] for word in text.split()]\n",
    "    vocab_size = len(Counter(corpus))\n",
    "\n",
    "    tokenizer = Tokenizer(num_words=vocab_size, oov_token=\"<OOV>\",\n",
    "                          filters='!#$%&()*+,-/:;<=>@«»\"\"[\\\\]^_`{|}~\\t\\n')\n",
    "\n",
    "    tokenizer.fit_on_texts(sents)\n",
    "    tokenizer.word_index['<pad>'] = 0\n",
    "    tokenizer.index_word[0] = '<pad>'\n",
    "\n",
    "    # Ensure special tokens are in the tokenizer\n",
    "    if '<sos>' not in tokenizer.word_index:\n",
    "        tokenizer.word_index['<sos>'] = len(tokenizer.word_index) + 1\n",
    "        tokenizer.index_word[tokenizer.word_index['<sos>']] = '<sos>'\n",
    "    if '<eos>' not in tokenizer.word_index:\n",
    "        tokenizer.word_index['<eos>'] = len(tokenizer.word_index) + 1\n",
    "        tokenizer.index_word[tokenizer.word_index['<eos>']] = '<eos>'\n",
    "\n",
    "    seqs = tokenizer.texts_to_sequences(sents)\n",
    "    pad_seqs = pad_sequences(seqs, maxlen=MAXLEN, padding='post')\n",
    "\n",
    "    return pad_seqs, tokenizer"
   ]
  },
  {
   "cell_type": "code",
   "execution_count": 13,
   "metadata": {},
   "outputs": [],
   "source": [
    "src_seqs, src_tokenizer = Vectorization('src', SRC_MAXLEN)\n",
    "trg_seqs, trg_tokenizer = Vectorization('trg', TRG_MAXLEN)"
   ]
  },
  {
   "cell_type": "code",
   "execution_count": 14,
   "metadata": {},
   "outputs": [
    {
     "name": "stdout",
     "output_type": "stream",
     "text": [
      "The size of the source vocab size: 5664\n",
      "\n",
      "The size of the target vocab size: 2870\n",
      "\n"
     ]
    }
   ],
   "source": [
    "print(f\"The size of the source vocab size: {len(src_tokenizer.word_index)}\\n\")\n",
    "print(f\"The size of the target vocab size: {len(trg_tokenizer.word_index)}\\n\")"
   ]
  },
  {
   "cell_type": "code",
   "execution_count": 15,
   "metadata": {},
   "outputs": [
    {
     "name": "stdout",
     "output_type": "stream",
     "text": [
      "[   2  724   16   42  510  156   20 1223  183  136   99   10    7  383\n",
      "    4    7  725   17   39  726   38 1224  306   61   29   14  124  212\n",
      "   12    6  510  107    3    0    0    0    0    0    0    0    0    0\n",
      "    0    0    0    0    0    0    0    0] \n",
      "\n",
      " sos gloria has an exam soon it lasts hours emma sent her a link to a website with some texts from previous years so that she can prepare for the exam better eos\n"
     ]
    }
   ],
   "source": [
    "trg_sent = ' '.join([trg_tokenizer.index_word[idx] for idx in trg_seqs[15] if idx != 0])\n",
    "print(f\"{trg_seqs[15]} \\n\\n {trg_sent}\")"
   ]
  },
  {
   "cell_type": "code",
   "execution_count": 16,
   "metadata": {},
   "outputs": [],
   "source": [
    "BATCH_SIZE = 128"
   ]
  },
  {
   "cell_type": "code",
   "execution_count": 17,
   "metadata": {},
   "outputs": [],
   "source": [
    "ds = TensorDataset(torch.LongTensor(src_seqs), torch.LongTensor(trg_seqs))"
   ]
  },
  {
   "cell_type": "code",
   "execution_count": 18,
   "metadata": {},
   "outputs": [],
   "source": [
    "torch.manual_seed(42)\n",
    "ds_dataloader = DataLoader(\n",
    "    dataset=ds,\n",
    "    batch_size=BATCH_SIZE,\n",
    "    shuffle=True,\n",
    "    num_workers=4,\n",
    "    pin_memory=True\n",
    ")"
   ]
  },
  {
   "cell_type": "code",
   "execution_count": 19,
   "metadata": {},
   "outputs": [
    {
     "name": "stdout",
     "output_type": "stream",
     "text": [
      "The size of the dataloader 8 batches of 64\n"
     ]
    }
   ],
   "source": [
    "print(f\"The size of the dataloader {len(ds_dataloader)} batches of {BATCH_SIZE}\")"
   ]
  },
  {
   "cell_type": "markdown",
   "metadata": {},
   "source": [
    "# <b>6 <span style='color:#9146ff'>|</span> Build our model</b>"
   ]
  },
  {
   "cell_type": "markdown",
   "metadata": {},
   "source": [
    "<span style='font-size:25px;font-weight:bold;color:#9146ff'><b style='color:black'>1-</b> Self Attention</span>"
   ]
  },
  {
   "cell_type": "code",
   "execution_count": 20,
   "metadata": {},
   "outputs": [],
   "source": [
    "def SelfAttention(q, k, v, mask):\n",
    "    attention_logits = torch.matmul(q, k.transpose(-2, -1)).to(DEVICE)\n",
    "    scaling = torch.sqrt(torch.tensor(k.size(-1), dtype=torch.float32)).to(DEVICE)\n",
    "    scaled_attention_logits = attention_logits / scaling\n",
    "\n",
    "    if mask is not None:\n",
    "        scaled_attention_logits += (mask * -1e9)\n",
    "\n",
    "    attention_weights = torch.softmax(scaled_attention_logits, dim=-1).to(DEVICE)\n",
    "    output = torch.matmul(attention_weights, v).to(DEVICE)\n",
    "\n",
    "    return output\n"
   ]
  },
  {
   "cell_type": "markdown",
   "metadata": {},
   "source": [
    "<span style='font-size:25px;font-weight:bold;color:#9146ff'><b style='color:black'>2-</b> Multi-Head Attention</span>"
   ]
  },
  {
   "cell_type": "code",
   "execution_count": 21,
   "metadata": {},
   "outputs": [],
   "source": [
    "class MultiHeadAttention(nn.Module):\n",
    "    def __init__(self, embedding_dim, num_heads):\n",
    "        super(MultiHeadAttention, self).__init__()\n",
    "\n",
    "        self.embedding_dim = embedding_dim\n",
    "        self.num_heads = num_heads\n",
    "\n",
    "        assert self.embedding_dim % self.num_heads == 0\n",
    "\n",
    "        self.head_dim = self.embedding_dim // self.num_heads\n",
    "\n",
    "        self.queries = nn.Linear(embedding_dim, embedding_dim)\n",
    "        self.keys = nn.Linear(embedding_dim, embedding_dim)\n",
    "        self.values = nn.Linear(embedding_dim, embedding_dim)\n",
    "        self.fc_out = nn.Linear(embedding_dim, embedding_dim)\n",
    "\n",
    "    def split_heads(self, x, batch_size):\n",
    "        x = x.reshape(batch_size, -1, self.num_heads, self.head_dim)\n",
    "        return x.permute(0, 2, 1, 3)\n",
    "\n",
    "    def forward(self, q, k, v, mask=None):\n",
    "        batch_size = q.shape[0]\n",
    "\n",
    "        q = self.queries(q)\n",
    "        k = self.keys(k)\n",
    "        v = self.values(v)\n",
    "\n",
    "        q = self.split_heads(q, batch_size)\n",
    "        k = self.split_heads(k, batch_size)\n",
    "        v = self.split_heads(v, batch_size)\n",
    "\n",
    "        scaled_attention = SelfAttention(q, k, v, mask)\n",
    "\n",
    "        scaled_attention = scaled_attention.permute(0, 2, 1, 3)\n",
    "        attention_output = scaled_attention.reshape(batch_size, -1, self.embedding_dim)\n",
    "\n",
    "        out = self.fc_out(attention_output)\n",
    "        return out"
   ]
  },
  {
   "cell_type": "markdown",
   "metadata": {},
   "source": [
    "<span style='font-size:25px;font-weight:bold;color:#9146ff'><b style='color:black'>3-</b> Encoder</span>"
   ]
  },
  {
   "cell_type": "code",
   "execution_count": 22,
   "metadata": {},
   "outputs": [],
   "source": [
    "class EncoderBlock(nn.Module):\n",
    "    def __init__(self, embedding_dim, num_heads, fc_dim, dropout_rate=0.1):\n",
    "        super(EncoderBlock, self).__init__()\n",
    "\n",
    "        self.MHA = MultiHeadAttention(embedding_dim, num_heads)\n",
    "        self.norm1 = nn.LayerNorm(embedding_dim, eps=1e-6)\n",
    "        self.norm2 = nn.LayerNorm(embedding_dim, eps=1e-6)\n",
    "        self.dropout1 = nn.Dropout(dropout_rate)\n",
    "        self.dropout2 = nn.Dropout(dropout_rate)\n",
    "\n",
    "        self.fc = nn.Sequential(\n",
    "            nn.Linear(embedding_dim, fc_dim),\n",
    "            nn.ReLU(),\n",
    "            nn.Linear(fc_dim, embedding_dim)\n",
    "        )\n",
    "\n",
    "    def forward(self, x, mask):\n",
    "        attn_out = self.MHA(x, x, x, mask)\n",
    "        attn_out = self.dropout1(attn_out)\n",
    "        out1 = self.norm1(x + attn_out)\n",
    "\n",
    "        fc_out = self.dropout2(self.fc(out1))\n",
    "        enc_out = self.norm2(out1 + fc_out)\n",
    "\n",
    "        return enc_out"
   ]
  },
  {
   "cell_type": "code",
   "execution_count": 23,
   "metadata": {},
   "outputs": [],
   "source": [
    "class Encoder(nn.Module):\n",
    "    def __init__(self, num_layers, embedding_dim, num_heads, fc_dim, src_vocab_size, max_length, dropout_rate=0.1):\n",
    "        super(Encoder, self).__init__()\n",
    "\n",
    "        self.num_layers = num_layers\n",
    "\n",
    "        self.embedding = nn.Embedding(src_vocab_size, embedding_dim)\n",
    "        self.pos_encoding = nn.Embedding(max_length, embedding_dim)\n",
    "        self.enc_layers = [EncoderBlock(embedding_dim, num_heads, fc_dim, dropout_rate).to(DEVICE) for _ in range(num_layers)]\n",
    "        self.dropout = nn.Dropout(dropout_rate)\n",
    "\n",
    "    def forward(self, x, mask):\n",
    "        batch_size, seqlen = x.shape\n",
    "        positions = torch.arange(0, seqlen).expand(batch_size, seqlen).to(DEVICE)\n",
    "        out = self.dropout((self.embedding(x) + self.pos_encoding(positions)))\n",
    "\n",
    "        for i in range(self.num_layers):\n",
    "            out = self.enc_layers[i](out, mask)\n",
    "\n",
    "        return out"
   ]
  },
  {
   "cell_type": "markdown",
   "metadata": {},
   "source": [
    "<span style='font-size:25px;font-weight:bold;color:#9146ff'><b style='color:black'>4-</b> Decoder</span>"
   ]
  },
  {
   "cell_type": "code",
   "execution_count": 24,
   "metadata": {},
   "outputs": [],
   "source": [
    "class DecoderBlock(nn.Module):\n",
    "    def __init__(self, embedding_dim, num_heads, fc_dim, dropout_rate=0.1):\n",
    "        super(DecoderBlock, self).__init__()\n",
    "\n",
    "        self.MHA1 = MultiHeadAttention(embedding_dim, num_heads)\n",
    "        self.MHA2 = MultiHeadAttention(embedding_dim, num_heads)\n",
    "        self.norm1 = nn.LayerNorm(embedding_dim, eps=1e-6)\n",
    "        self.norm2 = nn.LayerNorm(embedding_dim, eps=1e-6)\n",
    "        self.norm3 = nn.LayerNorm(embedding_dim, eps=1e-6)\n",
    "        self.dropout1 = nn.Dropout(dropout_rate)\n",
    "        self.dropout2 = nn.Dropout(dropout_rate)\n",
    "        self.dropout3 = nn.Dropout(dropout_rate)\n",
    "\n",
    "        self.fc = nn.Sequential(\n",
    "            nn.Linear(embedding_dim, fc_dim),\n",
    "            nn.ReLU(),\n",
    "            nn.Linear(fc_dim, embedding_dim)\n",
    "        )\n",
    "\n",
    "    def forward(self, x, enc_output, look_ahead_mask, padding_mask):\n",
    "        attn1 = self.MHA1(x, x, x, look_ahead_mask)\n",
    "        attn1 = self.dropout1(attn1)\n",
    "        out1 = self.norm1(attn1 + x)\n",
    "\n",
    "        attn2 = self.MHA2(out1, enc_output, enc_output, padding_mask)\n",
    "        attn2 = self.dropout2(attn2)\n",
    "        out2 = self.norm2(attn2 + out1)\n",
    "\n",
    "        fc_out = self.dropout3(self.fc(out2))\n",
    "        dec_out = self.norm3(fc_out + out2)\n",
    "\n",
    "        return dec_out"
   ]
  },
  {
   "cell_type": "code",
   "execution_count": 25,
   "metadata": {},
   "outputs": [],
   "source": [
    "class Decoder(nn.Module):\n",
    "    def __init__(self, num_layers, embedding_dim, num_heads, fc_dim, trg_vocab_size, max_length, dropout_rate=0.1):\n",
    "        super(Decoder, self).__init__()\n",
    "\n",
    "        self.num_layers = num_layers\n",
    "\n",
    "        self.embedding = nn.Embedding(trg_vocab_size, embedding_dim)\n",
    "        self.pos_encoding = nn.Embedding(max_length, embedding_dim)\n",
    "        self.dec_layers = [DecoderBlock(embedding_dim, num_heads, fc_dim, dropout_rate).to(DEVICE) for _ in range(num_layers)]\n",
    "        self.dropout = nn.Dropout(dropout_rate)\n",
    "\n",
    "    def forward(self, x, enc_output, look_ahead_mask, padding_mask):\n",
    "        batch_size, seqlen = x.shape\n",
    "        positions = torch.arange(0, seqlen).expand(batch_size, seqlen).to(DEVICE)\n",
    "        out = self.dropout((self.embedding(x) + self.pos_encoding(positions)))\n",
    "\n",
    "        for i in range(self.num_layers):\n",
    "            out = self.dec_layers[i](out, enc_output, look_ahead_mask, padding_mask)\n",
    "\n",
    "        return out"
   ]
  },
  {
   "cell_type": "code",
   "execution_count": 26,
   "metadata": {},
   "outputs": [],
   "source": [
    "class Transformer(nn.Module):\n",
    "    def __init__(self, num_layers, embedding_dim, num_heads, fc_dim, src_vocab_size, trg_vocab_size, src_max_length, trg_max_length, dropout_rate=0.1):\n",
    "        super(Transformer, self).__init__()\n",
    "\n",
    "        self.encoder = Encoder(\n",
    "            num_layers,\n",
    "            embedding_dim,\n",
    "            num_heads,\n",
    "            fc_dim,\n",
    "            src_vocab_size,\n",
    "            src_max_length,\n",
    "            dropout_rate\n",
    "        ).to(DEVICE)\n",
    "\n",
    "        self.decoder = Decoder(\n",
    "            num_layers,\n",
    "            embedding_dim,\n",
    "            num_heads,\n",
    "            fc_dim,\n",
    "            trg_vocab_size,\n",
    "            trg_max_length,\n",
    "            dropout_rate\n",
    "        ).to(DEVICE)\n",
    "\n",
    "        self.fc_out = nn.Linear(embedding_dim, trg_vocab_size)\n",
    "\n",
    "    def padding_mask(self, seq):\n",
    "        seq_mask = (seq == 0).float().unsqueeze(1).unsqueeze(2)\n",
    "        return seq_mask\n",
    "\n",
    "    def look_ahead_mask(self, trg):\n",
    "        batch_size, trg_len = trg.shape\n",
    "        trg_mask = 1 - torch.tril(torch.ones((trg_len, trg_len)), diagonal=0).expand(\n",
    "            batch_size, 1, trg_len, trg_len\n",
    "        )\n",
    "        return trg_mask\n",
    "\n",
    "    def create_masks(self, src, trg):\n",
    "        enc_padding_mask = self.padding_mask(src).to(DEVICE)\n",
    "        dec_padding_mask = self.padding_mask(src).to(DEVICE)\n",
    "        look_ahead_mask = self.look_ahead_mask(trg).to(DEVICE)\n",
    "        dec_trg_padding_mask = self.padding_mask(trg).to(DEVICE)\n",
    "        combined_mask = torch.max(dec_trg_padding_mask, look_ahead_mask).to(DEVICE)\n",
    "\n",
    "        return enc_padding_mask, combined_mask, dec_padding_mask\n",
    "\n",
    "    def forward(self, src, trg):\n",
    "        enc_padding_mask, look_ahead_mask, dec_padding_mask = self.create_masks(src, trg)\n",
    "        enc_output = self.encoder(src, enc_padding_mask)\n",
    "        dec_output = self.decoder(trg, enc_output, look_ahead_mask, dec_padding_mask)\n",
    "        out = self.fc_out(dec_output)\n",
    "        return out"
   ]
  },
  {
   "cell_type": "code",
   "execution_count": 27,
   "metadata": {},
   "outputs": [],
   "source": [
    "# Set hyperparameters\n",
    "EPOCHS = 200\n",
    "LR = 1e-3\n",
    "EMBEDDING_DIM = 128\n",
    "FC_DIM = 512\n",
    "NUM_LAYERS = 4\n",
    "NUM_HEADS = 8\n",
    "DROPOUT_RATE = 0.1\n",
    "SRC_VOCAB_SIZE = len(src_tokenizer.word_index)\n",
    "TRG_VOCAB_SIZE = len(trg_tokenizer.word_index)\n",
    "\n",
    "model = Transformer(\n",
    "    NUM_LAYERS,\n",
    "    EMBEDDING_DIM,\n",
    "    NUM_HEADS,\n",
    "    FC_DIM,\n",
    "    SRC_VOCAB_SIZE,\n",
    "    TRG_VOCAB_SIZE,\n",
    "    SRC_MAXLEN,\n",
    "    TRG_MAXLEN,\n",
    "    DROPOUT_RATE\n",
    ").to(DEVICE)\n",
    "\n",
    "temp_src = torch.randint(low=0, high=200, size=(BATCH_SIZE, SRC_MAXLEN), dtype=torch.int64).to(DEVICE)\n",
    "temp_trg = torch.randint(low=0, high=200, size=(BATCH_SIZE, TRG_MAXLEN), dtype=torch.int64).to(DEVICE)"
   ]
  },
  {
   "cell_type": "markdown",
   "metadata": {},
   "source": [
    "**test**"
   ]
  },
  {
   "cell_type": "code",
   "execution_count": 28,
   "metadata": {},
   "outputs": [
    {
     "data": {
      "text/plain": [
       "torch.Size([64, 50, 2870])"
      ]
     },
     "execution_count": 28,
     "metadata": {},
     "output_type": "execute_result"
    }
   ],
   "source": [
    "temp_trg_out = model(temp_src, temp_trg)\n",
    "temp_trg_out.shape"
   ]
  },
  {
   "cell_type": "code",
   "execution_count": 29,
   "metadata": {},
   "outputs": [
    {
     "data": {
      "text/plain": [
       "==========================================================================================\n",
       "Layer (type:depth-idx)                   Output Shape              Param #\n",
       "==========================================================================================\n",
       "Transformer                              [64, 50, 2870]            --\n",
       "├─Encoder: 1-1                           [64, 299, 128]            --\n",
       "│    └─Embedding: 2-1                    [64, 299, 128]            724,992\n",
       "│    └─Embedding: 2-2                    [64, 299, 128]            38,272\n",
       "│    └─Dropout: 2-3                      [64, 299, 128]            --\n",
       "├─Decoder: 1-2                           [64, 50, 128]             --\n",
       "│    └─Embedding: 2-4                    [64, 50, 128]             367,360\n",
       "│    └─Embedding: 2-5                    [64, 50, 128]             6,400\n",
       "│    └─Dropout: 2-6                      [64, 50, 128]             --\n",
       "├─Linear: 1-3                            [64, 50, 2870]            370,230\n",
       "==========================================================================================\n",
       "Total params: 1,507,254\n",
       "Trainable params: 1,507,254\n",
       "Non-trainable params: 0\n",
       "Total mult-adds (Units.MEGABYTES): 96.46\n",
       "==========================================================================================\n",
       "Input size (MB): 0.18\n",
       "Forward/backward pass size (MB): 119.22\n",
       "Params size (MB): 6.03\n",
       "Estimated Total Size (MB): 125.42\n",
       "=========================================================================================="
      ]
     },
     "execution_count": 29,
     "metadata": {},
     "output_type": "execute_result"
    }
   ],
   "source": [
    "summary(model, input_data=[temp_src, temp_trg])"
   ]
  },
  {
   "cell_type": "markdown",
   "metadata": {},
   "source": [
    "# <b>7 <span style='color:#9146ff'>|</span> Train our model</b>"
   ]
  },
  {
   "cell_type": "code",
   "execution_count": 30,
   "metadata": {},
   "outputs": [],
   "source": [
    "criterion = nn.CrossEntropyLoss(ignore_index=src_tokenizer.word_index['<pad>'])\n",
    "optimizer = Adam(model.parameters(), lr=LR)"
   ]
  },
  {
   "cell_type": "code",
   "execution_count": 31,
   "metadata": {},
   "outputs": [],
   "source": [
    "def train_step(src, trg):\n",
    "    decoder_input = trg[:, :-1]\n",
    "    trg_reals = trg[:, 1:].reshape(-1)\n",
    "    preds = model(src, decoder_input)\n",
    "    preds = preds.reshape(-1, preds.shape[2])\n",
    "    optimizer.zero_grad()\n",
    "    loss = criterion(preds, trg_reals)\n",
    "    loss.backward()\n",
    "    torch.nn.utils.clip_grad_norm_(model.parameters(), max_norm=1)\n",
    "    optimizer.step()\n",
    "    return loss"
   ]
  },
  {
   "cell_type": "code",
   "execution_count": 32,
   "metadata": {},
   "outputs": [
    {
     "name": "stderr",
     "output_type": "stream",
     "text": [
      "  0%|          | 0/200 [00:00<?, ?it/s]\n"
     ]
    },
    {
     "ename": "RuntimeError",
     "evalue": "CUDA error: CUBLAS_STATUS_ALLOC_FAILED when calling `cublasCreate(handle)`",
     "output_type": "error",
     "traceback": [
      "\u001b[0;31m---------------------------------------------------------------------------\u001b[0m",
      "\u001b[0;31mRuntimeError\u001b[0m                              Traceback (most recent call last)",
      "Cell \u001b[0;32mIn[32], line 7\u001b[0m\n\u001b[1;32m      5\u001b[0m \u001b[38;5;28;01mfor\u001b[39;00m src, trg \u001b[38;5;129;01min\u001b[39;00m ds_dataloader:\n\u001b[1;32m      6\u001b[0m     src, trg \u001b[38;5;241m=\u001b[39m src\u001b[38;5;241m.\u001b[39mto(DEVICE), trg\u001b[38;5;241m.\u001b[39mto(DEVICE)\n\u001b[0;32m----> 7\u001b[0m     loss \u001b[38;5;241m=\u001b[39m \u001b[43mtrain_step\u001b[49m\u001b[43m(\u001b[49m\u001b[43msrc\u001b[49m\u001b[43m,\u001b[49m\u001b[43m \u001b[49m\u001b[43mtrg\u001b[49m\u001b[43m)\u001b[49m\n\u001b[1;32m      8\u001b[0m     epoch_loss \u001b[38;5;241m+\u001b[39m\u001b[38;5;241m=\u001b[39m loss\n\u001b[1;32m      9\u001b[0m train_losses\u001b[38;5;241m.\u001b[39mappend((epoch_loss \u001b[38;5;241m/\u001b[39m \u001b[38;5;28mlen\u001b[39m(ds_dataloader))\u001b[38;5;241m.\u001b[39mcpu()\u001b[38;5;241m.\u001b[39mdetach()\u001b[38;5;241m.\u001b[39mnumpy())\n",
      "Cell \u001b[0;32mIn[31], line 8\u001b[0m, in \u001b[0;36mtrain_step\u001b[0;34m(src, trg)\u001b[0m\n\u001b[1;32m      6\u001b[0m optimizer\u001b[38;5;241m.\u001b[39mzero_grad()\n\u001b[1;32m      7\u001b[0m loss \u001b[38;5;241m=\u001b[39m criterion(preds, trg_reals)\n\u001b[0;32m----> 8\u001b[0m \u001b[43mloss\u001b[49m\u001b[38;5;241;43m.\u001b[39;49m\u001b[43mbackward\u001b[49m\u001b[43m(\u001b[49m\u001b[43m)\u001b[49m\n\u001b[1;32m      9\u001b[0m torch\u001b[38;5;241m.\u001b[39mnn\u001b[38;5;241m.\u001b[39mutils\u001b[38;5;241m.\u001b[39mclip_grad_norm_(model\u001b[38;5;241m.\u001b[39mparameters(), max_norm\u001b[38;5;241m=\u001b[39m\u001b[38;5;241m1\u001b[39m)\n\u001b[1;32m     10\u001b[0m optimizer\u001b[38;5;241m.\u001b[39mstep()\n",
      "File \u001b[0;32m~/Pythonvscode/Learningpython/lib/python3.12/site-packages/torch/_tensor.py:525\u001b[0m, in \u001b[0;36mTensor.backward\u001b[0;34m(self, gradient, retain_graph, create_graph, inputs)\u001b[0m\n\u001b[1;32m    515\u001b[0m \u001b[38;5;28;01mif\u001b[39;00m has_torch_function_unary(\u001b[38;5;28mself\u001b[39m):\n\u001b[1;32m    516\u001b[0m     \u001b[38;5;28;01mreturn\u001b[39;00m handle_torch_function(\n\u001b[1;32m    517\u001b[0m         Tensor\u001b[38;5;241m.\u001b[39mbackward,\n\u001b[1;32m    518\u001b[0m         (\u001b[38;5;28mself\u001b[39m,),\n\u001b[0;32m   (...)\u001b[0m\n\u001b[1;32m    523\u001b[0m         inputs\u001b[38;5;241m=\u001b[39minputs,\n\u001b[1;32m    524\u001b[0m     )\n\u001b[0;32m--> 525\u001b[0m \u001b[43mtorch\u001b[49m\u001b[38;5;241;43m.\u001b[39;49m\u001b[43mautograd\u001b[49m\u001b[38;5;241;43m.\u001b[39;49m\u001b[43mbackward\u001b[49m\u001b[43m(\u001b[49m\n\u001b[1;32m    526\u001b[0m \u001b[43m    \u001b[49m\u001b[38;5;28;43mself\u001b[39;49m\u001b[43m,\u001b[49m\u001b[43m \u001b[49m\u001b[43mgradient\u001b[49m\u001b[43m,\u001b[49m\u001b[43m \u001b[49m\u001b[43mretain_graph\u001b[49m\u001b[43m,\u001b[49m\u001b[43m \u001b[49m\u001b[43mcreate_graph\u001b[49m\u001b[43m,\u001b[49m\u001b[43m \u001b[49m\u001b[43minputs\u001b[49m\u001b[38;5;241;43m=\u001b[39;49m\u001b[43minputs\u001b[49m\n\u001b[1;32m    527\u001b[0m \u001b[43m\u001b[49m\u001b[43m)\u001b[49m\n",
      "File \u001b[0;32m~/Pythonvscode/Learningpython/lib/python3.12/site-packages/torch/autograd/__init__.py:267\u001b[0m, in \u001b[0;36mbackward\u001b[0;34m(tensors, grad_tensors, retain_graph, create_graph, grad_variables, inputs)\u001b[0m\n\u001b[1;32m    262\u001b[0m     retain_graph \u001b[38;5;241m=\u001b[39m create_graph\n\u001b[1;32m    264\u001b[0m \u001b[38;5;66;03m# The reason we repeat the same comment below is that\u001b[39;00m\n\u001b[1;32m    265\u001b[0m \u001b[38;5;66;03m# some Python versions print out the first line of a multi-line function\u001b[39;00m\n\u001b[1;32m    266\u001b[0m \u001b[38;5;66;03m# calls in the traceback and some print out the last line\u001b[39;00m\n\u001b[0;32m--> 267\u001b[0m \u001b[43m_engine_run_backward\u001b[49m\u001b[43m(\u001b[49m\n\u001b[1;32m    268\u001b[0m \u001b[43m    \u001b[49m\u001b[43mtensors\u001b[49m\u001b[43m,\u001b[49m\n\u001b[1;32m    269\u001b[0m \u001b[43m    \u001b[49m\u001b[43mgrad_tensors_\u001b[49m\u001b[43m,\u001b[49m\n\u001b[1;32m    270\u001b[0m \u001b[43m    \u001b[49m\u001b[43mretain_graph\u001b[49m\u001b[43m,\u001b[49m\n\u001b[1;32m    271\u001b[0m \u001b[43m    \u001b[49m\u001b[43mcreate_graph\u001b[49m\u001b[43m,\u001b[49m\n\u001b[1;32m    272\u001b[0m \u001b[43m    \u001b[49m\u001b[43minputs\u001b[49m\u001b[43m,\u001b[49m\n\u001b[1;32m    273\u001b[0m \u001b[43m    \u001b[49m\u001b[43mallow_unreachable\u001b[49m\u001b[38;5;241;43m=\u001b[39;49m\u001b[38;5;28;43;01mTrue\u001b[39;49;00m\u001b[43m,\u001b[49m\n\u001b[1;32m    274\u001b[0m \u001b[43m    \u001b[49m\u001b[43maccumulate_grad\u001b[49m\u001b[38;5;241;43m=\u001b[39;49m\u001b[38;5;28;43;01mTrue\u001b[39;49;00m\u001b[43m,\u001b[49m\n\u001b[1;32m    275\u001b[0m \u001b[43m\u001b[49m\u001b[43m)\u001b[49m\n",
      "File \u001b[0;32m~/Pythonvscode/Learningpython/lib/python3.12/site-packages/torch/autograd/graph.py:744\u001b[0m, in \u001b[0;36m_engine_run_backward\u001b[0;34m(t_outputs, *args, **kwargs)\u001b[0m\n\u001b[1;32m    742\u001b[0m     unregister_hooks \u001b[38;5;241m=\u001b[39m _register_logging_hooks_on_whole_graph(t_outputs)\n\u001b[1;32m    743\u001b[0m \u001b[38;5;28;01mtry\u001b[39;00m:\n\u001b[0;32m--> 744\u001b[0m     \u001b[38;5;28;01mreturn\u001b[39;00m \u001b[43mVariable\u001b[49m\u001b[38;5;241;43m.\u001b[39;49m\u001b[43m_execution_engine\u001b[49m\u001b[38;5;241;43m.\u001b[39;49m\u001b[43mrun_backward\u001b[49m\u001b[43m(\u001b[49m\u001b[43m  \u001b[49m\u001b[38;5;66;43;03m# Calls into the C++ engine to run the backward pass\u001b[39;49;00m\n\u001b[1;32m    745\u001b[0m \u001b[43m        \u001b[49m\u001b[43mt_outputs\u001b[49m\u001b[43m,\u001b[49m\u001b[43m \u001b[49m\u001b[38;5;241;43m*\u001b[39;49m\u001b[43margs\u001b[49m\u001b[43m,\u001b[49m\u001b[43m \u001b[49m\u001b[38;5;241;43m*\u001b[39;49m\u001b[38;5;241;43m*\u001b[39;49m\u001b[43mkwargs\u001b[49m\n\u001b[1;32m    746\u001b[0m \u001b[43m    \u001b[49m\u001b[43m)\u001b[49m  \u001b[38;5;66;03m# Calls into the C++ engine to run the backward pass\u001b[39;00m\n\u001b[1;32m    747\u001b[0m \u001b[38;5;28;01mfinally\u001b[39;00m:\n\u001b[1;32m    748\u001b[0m     \u001b[38;5;28;01mif\u001b[39;00m attach_logging_hooks:\n",
      "\u001b[0;31mRuntimeError\u001b[0m: CUDA error: CUBLAS_STATUS_ALLOC_FAILED when calling `cublasCreate(handle)`"
     ]
    }
   ],
   "source": [
    "train_losses = []\n",
    "for epoch in tqdm(range(EPOCHS)):\n",
    "    epoch_loss = 0\n",
    "    model.train()\n",
    "    for src, trg in ds_dataloader:\n",
    "        src, trg = src.to(DEVICE), trg.to(DEVICE)\n",
    "        loss = train_step(src, trg)\n",
    "        epoch_loss += loss\n",
    "    train_losses.append((epoch_loss / len(ds_dataloader)).cpu().detach().numpy())\n",
    "    if (epoch + 1) % 20 == 0:\n",
    "        print(f\"\\n[Epoch :  {epoch+1}/{EPOCHS}] [Train Loss : {train_losses[-1]:0.2f}]\\n\")"
   ]
  },
  {
   "cell_type": "code",
   "execution_count": null,
   "metadata": {},
   "outputs": [
    {
     "data": {
      "text/plain": [
       "<matplotlib.legend.Legend at 0x77246a272bd0>"
      ]
     },
     "execution_count": 33,
     "metadata": {},
     "output_type": "execute_result"
    },
    {
     "data": {
      "image/png": "[encoded data removed]",
      "text/plain": [
       "<Figure size 640x480 with 1 Axes>"
      ]
     },
     "metadata": {},
     "output_type": "display_data"
    }
   ],
   "source": [
    "plt.plot(train_losses, label='train')\n",
    "plt.title('Training loss over Epochs')\n",
    "plt.xlabel('Epochs')\n",
    "plt.ylabel('loss')\n",
    "plt.legend()"
   ]
  },
  {
   "cell_type": "markdown",
   "metadata": {},
   "source": [
    "# <b>8 <span style='color:#9146ff'>|</span> Evaluate</b>"
   ]
  },
  {
   "cell_type": "code",
   "execution_count": null,
   "metadata": {},
   "outputs": [],
   "source": [
    "def evaluate(sent):\n",
    "    sentence = src_tokenizer.texts_to_sequences([sent])\n",
    "    sentence = pad_sequences(sentence, maxlen=SRC_MAXLEN, padding='post')\n",
    "    src_input = torch.tensor(np.array(sentence), dtype=torch.int64)\n",
    "    decoder_input = trg_tokenizer.texts_to_sequences(['<sos>'])\n",
    "    decoder_input = torch.tensor(np.array(decoder_input), dtype=torch.int64)\n",
    "    src_input, decoder_input = src_input.to(DEVICE), decoder_input.to(DEVICE)\n",
    "\n",
    "    for i in range(TRG_MAXLEN):\n",
    "        preds = model(src_input, decoder_input)\n",
    "        preds = preds[:, -1:, :]\n",
    "        predicted_id = torch.argmax(preds, dim=-1)\n",
    "        if predicted_id.item() == trg_tokenizer.word_index['<eos>']:\n",
    "            return decoder_input.squeeze(0)\n",
    "        decoder_input = torch.cat([decoder_input, predicted_id], dim=1)\n",
    "\n",
    "    return decoder_input.squeeze(0)"
   ]
  },
  {
   "cell_type": "code",
   "execution_count": null,
   "metadata": {},
   "outputs": [],
   "source": [
    "test_sample = df.sample(100)\n",
    "x_test = test_sample['src'].tolist()\n",
    "y_test = test_sample['trg'].tolist()"
   ]
  },
  {
   "cell_type": "code",
   "execution_count": null,
   "metadata": {},
   "outputs": [
    {
     "name": "stdout",
     "output_type": "stream",
     "text": [
      "Input sentence 1 : dima hello nada hey girl whats up dima im in a huge trouble my laptop is broken and i have to deliver a translation tomorrow nada fuck what happened dima the stupid cat spilled coffee on it im freaking out dima you still have your old laptop is it possible to lend it to me please nada no sorry ive given it to my brother but youre lucky ive taken these two days off so you can take mine dima ooh man thank you sooo much if it werent for trados i wouldnt be panicking nada no worries it happened but i always think about this like man we need some back up laptops dima i know but i always change my mind and spend the money elsewhere lol nada yeah but its like our only tool so we need to invest in it dima yup true dima can i come in an hour to pick it up nada yes ttyl\n",
      "Actual summary 1 : <sos> dima's laptop is broken as her cat spilled coffee on the laptop dima is worried because she has to deliver a translation for trados tomorrow dima will come to nada in an hour to borrow nada's laptop <eos>\n",
      "Predicted summary 1 : jane and john are going to the gym and she will be hospitalised the desert will come to the base eos eos her eos eos eos eos eos and brown shoes will be fine will meet at work eos eos eos eos eos will be home eos appreciated the same\n",
      "\n",
      "Input sentence 2 : jason yo what are you doing after work mike going to the gym and then home boy jason you eating at home mike yep bring your food and come over jason will do afterwards we play some destiny on ps mike you bet ya that game is so addictive jason ok cya later then mike oh yeah\n",
      "Actual summary 2 : <sos> after work mike is going to go to the gym and then home he invites jason to bring some food and come over they can play on ps <eos>\n",
      "Predicted summary 2 : kate is going to the party and he will be eos to the zoo eos eos her facebook posts a new clients eos eos eos eos eos eos eos eos to the reception eos to the lily's eos eos eos eos eos to the different vibe the th and george\n",
      "\n",
      "Input sentence 3 : henny filegif henny dear frances something beautiful and funny for a good new year frances it is so wonderful thank you frances for you too all the best in frances filephoto henny thanks a lovely view is it near you frances am just back from the vosges it was a view we had from our sitting room the farm house turned into a holiday flat was just superb here a few pics frances filephoto henny that looks superb far from maddening crowd frances thats it absolutely quiet no banging on the new years eve no busy roads henny so aiden was a happy dog frances totally ferdinand too we the tree of us had a great week there and didnt even spend much money henny did you cook frances partly ferdinand but we also had meals in a local was exceptionally tasty henny duce france frances cest ca\n",
      "Actual summary 3 : <sos> frances just got back from vosges she stayed a week in a farm house with ferdinand and her dog aiden <eos>\n",
      "Predicted summary 3 : kate is going to go to the gym and he is coming eos her eos eos her eos to the butt the whole album eos eos eos eos eos eos eos eos eos eos eos after work eos eos eos eos eos to the weekend eos the th and she\n",
      "\n",
      "Input sentence 4 : avery you went to ethans house david yeah i had to babysit avery aww how do you babysit just curious david i had to go through a lot avery was his sister naughty david tooo much avery lol david i will just refuse net time avery as you wish david avery i just got his text david what is he saying avery he is asking me to say thanks to you david yeah whatever avery he was saying that your phone was switched off david yeah i have just turned it on avery i have told him about that david k avery gotta go now\n",
      "Actual summary 4 : <sos> david was looking after ethan's sister ethan is grateful david won't do it again <eos>\n",
      "Predicted summary 4 : rob is going to go to the gym and he is going to the photoshoot cristina prefers wednesdays the notes eos eos eos eos eos eos eos eos eos eos eos eos eos eos to the lily's eos eos eos eos eos to the th eos eos appreciated the gym\n",
      "\n",
      "Input sentence 5 : ethan whos going to see solstafir noah solstafir when noah i had no idea they were playing archie im not d leo im going ofc ethan noah thats a wednesday ehh noah ill have to see might have to stay late at work leo nooo you have to come ethan yeah you have to archie there are better concerts p noah i know i would really like to see them but yeah leo archie p ethan dont mind him p noah ill see and let you know it would really suck to miss them leo yup ethan yup x\n",
      "Actual summary 5 : <sos> ethan and leo are going to see sólstafir on  noah would like to go too but he might have to stay late at work <eos>\n",
      "Predicted summary 5 : kate is going to go to the gym mair a new sofa eos eos eos eos her eos eos her eos eos eos eos eos eos eos eos eos eos eos eos eos eos to the lily's eos eos eos eos eos to the th eos eos appreciated the door\n",
      "\n",
      "Input sentence 6 : frank wat are u doing andy watching arrow b frank dont u have a quiz tomorrow andy yeah so frank so go study for it andy its a small quiz frank so it doesnot matter andy it does but frank but andy ill study for it tomorrow frank yea like ur gonna wake up on time for that andy dude your not my dad frank\n",
      "Actual summary 6 : <sos> frank tries to encourage andy to learn for the tomorrow's quiz <eos>\n",
      "Predicted summary 6 : jane and john are going to the weekend dory's in the slimming eos eos eos eos her facebook posts her eos eos eos eos eos eos eos eos and brown shoes eos eos eos eos her mum eos eos eos eos eos eos eos different vibe the th eos eos\n",
      "\n",
      "Input sentence 7 : ann hello katie thank you so much for hosting tim monday evening and for dropping him at the railway station next morning here is mobile number i ll confirm you but again and in advance thanks a lot katie hello ann i didnt realise but we spend a week end together years ago in saint fargeau ann it goes back so long but its possible ann its true that i know ben since school katie as far as im concern i remember very well this week end as i had a very good friends call ann cairns like you eriks wife ann eriks wife of course hes my cousin and ann his wife is the cousin of one of my best friend small word katie indeed ann hi katie is it still ok for hosting my son tomorrow you may send him a text to tell him where you want to pick him up thanks so much katie yes ann ill send a text to your son for tomorrow ann thanks funny you also know stef and leo friends of us in berlin but its true they lived in reims before katie your son is really nice dont hesitate to contact me again if needed\n",
      "Actual summary 7 : <sos> ann thanks katie for hosting her son tim on monday evening and driving him to the railway station next morning kate will send a message to tim tomorrow to ask about the place where she should be waiting for him <eos>\n",
      "Predicted summary 7 : rob is going to go to buy a birthday a few videos her the photoshoot the gym and it eos eos on the office and it eos eos eos eos eos eos eos to borrow nada's the zoo eos eos eos eos to the with eos eos appreciated the th\n",
      "\n",
      "Input sentence 8 : mike how did chicago do last nite pat chicago what mike fire man pat dunno mike how come pat its soccer right mike you not a soccer fan pat nah baseball and hockey is wot i luv mike its bears and white sox right pat bears is football white sox is baseball mike and hockey pat blackhawks but not doing well right now mike and bulls used to be better too i guess pat true enough jordan times long gone mike u fancy hoops at all pat not really not now mike u play tho pat yeah i still hit points well enough mike i like to play sometime pat good idea we need to do meet up one day mike yeah always good to hit the ball\n",
      "Actual summary 8 : <sos> pat is interested in baseball and hockey he doesn't know much about basketball anymore he plans to play basketball with mike one day <eos>\n",
      "Predicted summary 8 : jane and john are going to the gym mair a new sofa eos to the second hand shop downtown her injury ola at the government eos eos eos eos eos eos eos eos eos to the lily's eos eos eos eos eos to the different vibe the th eos eos\n",
      "\n",
      "Input sentence 9 : sophia im sorry mason its fine sophia okif u was there i would give you a hot kiss for apologize mason hahaha you still send me a photo one sophia what photo mason kiss photo haha sophia hehe i sent u already such a photo mason another one wouldnt hurt sophia maybe later when i take a shower and look good mason and who says you dont look good now sophia me mason let me be the judge of that sophia no mason ill still love you the same whether you have make up or not sophia hehe but i dont want u to see me when i do not look good mason you must sophia i must what mason send me the kiss now sophia haha mason doesnt matter how you look youll still look good to me sophia hahah sophia filephoto\n",
      "Actual summary 9 : <sos> sophia apologizes to mason she sends him a kiss photo on his request <eos>\n",
      "Predicted summary 9 : kate is going to go to the gym the weekend eos to the story to go to get it eos eos eos eos to the hulu eos eos eos eos eos eos eos eos to the lily's eos eos eos eos eos to the different vibe the th and is\n",
      "\n",
      "Input sentence 10 : joanne what are your plans for the holidays evelyn nothing ill stay at home and rest joanne you must be exhausted after the past few weeks evelyn its been hectic joanne im going back home evelyn to france joanne yes not that i want to go evelyn why you always liked spending christmas with your family joanne i did but my parents separated a few months ago joanne it is still pretty tense evelyn im sorry to hear that joanne my dad left my mum for his secretary joanne such a clich joanne my mum is devastated joanne so im basically going to cheer her up joanne its really hard for her now joanne for me its also not easy evelyn i can imagine evelyn if you want to bring your mum over here we could spend christmas together joanne thanks thats really sweet but i dont think shes in a condition for that shes been very depressive lately\n",
      "Actual summary 10 : <sos> joanne is going to go back home to france for the holidays she's going to cheer her mum up because her parents separated a few months ago evelyn offers joanne to spend christmas together if she brings her mum over here <eos>\n",
      "Predicted summary 10 : there is going to go to the gym mair a new sofa eos eos eos eos eos eos eos her eos to the office and jada eos eos eos eos to the reception eos to the lily's eos eos eos eos eos to the different vibe the th and he\n",
      "\n"
     ]
    }
   ],
   "source": [
    "for idx, (src_sent, trg_sent) in enumerate(zip(x_test[-10:], y_test[-10:])):\n",
    "    result = evaluate(src_sent)\n",
    "    pred_sent = ' '.join([trg_tokenizer.index_word[idx] for idx in result.cpu().numpy() if idx != 0 and idx != 2])\n",
    "    print(f\"Input sentence {idx+1} : {src_sent}\")\n",
    "    print(f\"Actual summary {idx+1} : {trg_sent}\")\n",
    "    print(f\"Predicted summary {idx+1} : {pred_sent}\\n\")"
   ]
  }
 ],
 "metadata": {
  "kernelspec": {
   "display_name": "Learningpython",
   "language": "python",
   "name": "python3"
  },
  "language_info": {
   "codemirror_mode": {
    "name": "ipython",
    "version": 3
   },
   "file_extension": ".py",
   "mimetype": "text/x-python",
   "name": "python",
   "nbconvert_exporter": "python",
   "pygments_lexer": "ipython3",
   "version": "3.12.3"
  }
 },
 "nbformat": 4,
 "nbformat_minor": 2
}
